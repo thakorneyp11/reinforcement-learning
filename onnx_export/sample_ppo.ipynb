{
 "cells": [
  {
   "attachments": {},
   "cell_type": "markdown",
   "metadata": {},
   "source": [
    "# 1. Prepare Env"
   ]
  },
  {
   "cell_type": "code",
   "execution_count": 8,
   "metadata": {},
   "outputs": [
    {
     "name": "stderr",
     "output_type": "stream",
     "text": [
      "/Users/thakorns/Desktop/Eyp/codebases/reinforcement-learning/env/lib/python3.9/site-packages/gym/envs/registration.py:216: UserWarning: \u001b[33mWARN: Overriding environment SampleEnv-v0\u001b[0m\n",
      "  logger.warn(\"Overriding environment {}\".format(id))\n"
     ]
    }
   ],
   "source": [
    "from gym.envs.registration import register\n",
    "\n",
    "register(\n",
    "    id='SampleEnv-v0',\n",
    "    entry_point='sample_env:SampleEnv',\n",
    ")"
   ]
  },
  {
   "attachments": {},
   "cell_type": "markdown",
   "metadata": {},
   "source": [
    "# 2. Prepare sample model"
   ]
  },
  {
   "cell_type": "code",
   "execution_count": 9,
   "metadata": {},
   "outputs": [],
   "source": [
    "from stable_baselines3 import PPO\n",
    "import torch"
   ]
  },
  {
   "cell_type": "code",
   "execution_count": 10,
   "metadata": {},
   "outputs": [],
   "source": [
    "# create onnx model parser format\n",
    "class OnnxablePolicy(torch.nn.Module):\n",
    "    def __init__(self, extractor, action_net, value_net):\n",
    "        super().__init__()\n",
    "        self.extractor = extractor\n",
    "        self.action_net = action_net\n",
    "        self.value_net = value_net\n",
    "\n",
    "    def forward(self, observation):\n",
    "        # NOTE: You may have to process (normalize) observation in the correct\n",
    "        #       way before using this. See `common.preprocessing.preprocess_obs`\n",
    "        action_hidden, value_hidden = self.extractor(observation)\n",
    "        return self.action_net(action_hidden), self.value_net(value_hidden)"
   ]
  },
  {
   "cell_type": "code",
   "execution_count": 11,
   "metadata": {},
   "outputs": [
    {
     "name": "stdout",
     "output_type": "stream",
     "text": [
      "observation_space:  Box([0. 0. 0. 0. 0. 0. 0. 0. 0. 0.], [100. 100. 100. 100. 100. 100. 100. 100. 100. 100.], (10,), float32)\n",
      "action_space:  MultiBinary(5)\n"
     ]
    },
    {
     "name": "stderr",
     "output_type": "stream",
     "text": [
      "/Users/thakorns/Desktop/Eyp/codebases/reinforcement-learning/env/lib/python3.9/site-packages/gym/spaces/box.py:73: UserWarning: \u001b[33mWARN: Box bound precision lowered by casting to float32\u001b[0m\n",
      "  logger.warn(\n"
     ]
    }
   ],
   "source": [
    "# initialize sample RL model\n",
    "model = PPO(\"MlpPolicy\", \"SampleEnv-v0\", device=\"cpu\")\n",
    "print('observation_space: ', model.observation_space)\n",
    "print('action_space: ', model.action_space)"
   ]
  },
  {
   "cell_type": "code",
   "execution_count": 12,
   "metadata": {},
   "outputs": [
    {
     "name": "stdout",
     "output_type": "stream",
     "text": [
      "observation_space sample:  [76.74602  65.90086  56.5687   25.135822 29.373598  9.519502 24.78885\n",
      " 97.69087  57.811977 53.804802]\n",
      "action_space sample:  [0 0 0 0 1]\n"
     ]
    }
   ],
   "source": [
    "print('observation_space sample: ', model.observation_space.sample())\n",
    "print('action_space sample: ', model.action_space.sample())"
   ]
  },
  {
   "cell_type": "code",
   "execution_count": 14,
   "metadata": {},
   "outputs": [],
   "source": [
    "# parse RL model to ONNX format\n",
    "onnxable_model = OnnxablePolicy(\n",
    "    model.policy.mlp_extractor, model.policy.action_net, model.policy.value_net\n",
    ")"
   ]
  },
  {
   "cell_type": "code",
   "execution_count": 59,
   "metadata": {},
   "outputs": [
    {
     "name": "stdout",
     "output_type": "stream",
     "text": [
      "observation_size:  (10,)\n",
      "dummy_input:  tensor([12., 59., 83., 83., 26., 22., 36.,  2., 90., 36.])\n"
     ]
    }
   ],
   "source": [
    "# define model input schema\n",
    "observation_size = model.observation_space.shape\n",
    "dummy_input = torch.randint(0, 100, observation_size, dtype=torch.float32)\n",
    "print('observation_size: ', observation_size)\n",
    "print('dummy_input: ', dummy_input)"
   ]
  },
  {
   "cell_type": "code",
   "execution_count": 82,
   "metadata": {},
   "outputs": [
    {
     "name": "stdout",
     "output_type": "stream",
     "text": [
      "================ Diagnostic Run torch.onnx.export version 2.0.0 ================\n",
      "verbose: False, log level: Level.ERROR\n",
      "======================= 0 NONE 0 NOTE 0 WARNING 0 ERROR ========================\n",
      "\n"
     ]
    }
   ],
   "source": [
    "# create ONNX model\n",
    "torch.onnx.export(\n",
    "    onnxable_model,\n",
    "    dummy_input,\n",
    "    \"sample_ppo_model.onnx\",\n",
    "    opset_version=12,\n",
    "    input_names=[\"input\"],\n",
    ")"
   ]
  },
  {
   "attachments": {},
   "cell_type": "markdown",
   "metadata": {},
   "source": [
    "# 3. Run ONNX model"
   ]
  },
  {
   "cell_type": "code",
   "execution_count": 83,
   "metadata": {},
   "outputs": [],
   "source": [
    "import onnx\n",
    "\n",
    "# load ONNX model\n",
    "onnx_path = \"sample_ppo_model.onnx\"\n",
    "onnx_model = onnx.load(onnx_path)\n",
    "onnx.checker.check_model(onnx_model)  # if no exception, model is valid"
   ]
  },
  {
   "cell_type": "code",
   "execution_count": 87,
   "metadata": {},
   "outputs": [
    {
     "name": "stdout",
     "output_type": "stream",
     "text": [
      "sample input:  [92.  1. 26. 56. 21. 35. 24. 67. 38. 99.]\n",
      "predicted actions:  [-0.00517289 -0.00588899  0.00750596  0.01193175  0.01188159]\n"
     ]
    }
   ],
   "source": [
    "import onnxruntime\n",
    "import numpy as np\n",
    "\n",
    "# sample model input\n",
    "observation_size = (10,)  # model.observation_space.shape\n",
    "observation = np.random.randint(0, 100, size=observation_size).astype(np.float32)\n",
    "print('sample input: ', observation)\n",
    "\n",
    "ort_sess = onnxruntime.InferenceSession(onnx_path)\n",
    "actions, _ = ort_sess.run(None, {\"input\": observation})\n",
    "print('predicted actions: ', actions)"
   ]
  },
  {
   "cell_type": "code",
   "execution_count": null,
   "metadata": {},
   "outputs": [],
   "source": []
  }
 ],
 "metadata": {
  "kernelspec": {
   "display_name": "env",
   "language": "python",
   "name": "python3"
  },
  "language_info": {
   "codemirror_mode": {
    "name": "ipython",
    "version": 3
   },
   "file_extension": ".py",
   "mimetype": "text/x-python",
   "name": "python",
   "nbconvert_exporter": "python",
   "pygments_lexer": "ipython3",
   "version": "3.9.13"
  },
  "orig_nbformat": 4
 },
 "nbformat": 4,
 "nbformat_minor": 2
}
