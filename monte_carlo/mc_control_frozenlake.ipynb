{
 "cells": [
  {
   "cell_type": "code",
   "execution_count": 1,
   "metadata": {},
   "outputs": [],
   "source": [
    "import sys\n",
    "import gym\n",
    "import numpy as np\n",
    "from time import sleep\n",
    "import random\n",
    "import tqdm"
   ]
  },
  {
   "cell_type": "code",
   "execution_count": 2,
   "metadata": {},
   "outputs": [],
   "source": [
    "def create_random_policy(env):\n",
    "    policy = {}\n",
    "    for key in range(0, env.observation_space.n):\n",
    "        current_end = 0\n",
    "        p = {}\n",
    "        for action in range(0, env.action_space.n):\n",
    "            p[action] = 1 / env.action_space.n\n",
    "        policy[key] = p\n",
    "    return policy\n",
    "\n",
    "def create_state_action_dictionary(env, policy):\n",
    "    Q = {}\n",
    "    for key in policy.keys():\n",
    "         Q[key] = {a: 0.0 for a in range(0, env.action_space.n)}\n",
    "    return Q"
   ]
  },
  {
   "cell_type": "code",
   "execution_count": 5,
   "metadata": {},
   "outputs": [],
   "source": [
    "def run_game(env, policy, display=True):\n",
    "    env.reset()\n",
    "    episode = []\n",
    "    finished = False\n",
    "\n",
    "    while not finished:\n",
    "        s = env.env.s\n",
    "        if display:\n",
    "            clear_output(True)\n",
    "            env.render()\n",
    "            sleep(0.2)\n",
    "\n",
    "        timestep = []\n",
    "        timestep.append(s)\n",
    "        n = random.uniform(0, sum(policy[s].values()))\n",
    "        top_range = 0\n",
    "        for prob in policy[s].items():\n",
    "                top_range += prob[1]\n",
    "                if n < top_range:\n",
    "                    action = prob[0]\n",
    "                    break \n",
    "        state, reward, finished, info = env.step(action)\n",
    "        timestep.append(action)\n",
    "        timestep.append(reward)\n",
    "\n",
    "        episode.append(timestep)\n",
    "\n",
    "    if display:\n",
    "        clear_output(True)\n",
    "        env.render()\n",
    "        sleep(0.2)\n",
    "    return episode\n",
    "\n",
    "def test_policy(policy, env):\n",
    "    wins = 0\n",
    "    r = 100\n",
    "    for i in range(r):\n",
    "        w = run_game(env, policy, display=False)[-1][-1]\n",
    "        if w == 1:\n",
    "                wins += 1\n",
    "    return wins / r"
   ]
  },
  {
   "cell_type": "code",
   "execution_count": 6,
   "metadata": {},
   "outputs": [],
   "source": [
    "def monte_carlo(env, episodes=100, policy=None, epsilon=0.01, first_visit=True):\n",
    "    if not policy:\n",
    "        policy = create_random_policy(env)  # Create an empty dictionary to store state action values    \n",
    "    Q = create_state_action_dictionary(env, policy) # Empty dictionary for storing rewards for each state-action pair\n",
    "    returns = {}\n",
    "    \n",
    "    for idx in range(episodes): # Looping through episodes\n",
    "        G = 0 # Store cumulative reward in G (initialized at 0)\n",
    "        episode = run_game(env=env, policy=policy, display=False) # Store state, action and value respectively \n",
    "        \n",
    "        # for loop through reversed indices of episode array. \n",
    "        # The logic behind it being reversed is that the eventual reward would be at the end. \n",
    "        # So we have to go back from the last timestep to the first one propagating result from the future.\n",
    "        \n",
    "        for i in reversed(range(0, len(episode))):   \n",
    "            s_t, a_t, r_t = episode[i] \n",
    "            state_action = (s_t, a_t)\n",
    "            G += r_t # Increment total reward by reward on current timestep\n",
    "            \n",
    "            # filter for first-visit state-action pair only\n",
    "            if first_visit:\n",
    "                if state_action in [(x[0], x[1]) for x in episode[0:i]]:\n",
    "                    continue\n",
    "                \n",
    "            if returns.get(state_action):  # store return value of a state-action pair\n",
    "                returns[state_action].append(G)\n",
    "            else:\n",
    "                returns[state_action] = [G]   \n",
    "                \n",
    "            # update Q value for a state-action pair\n",
    "            Q[s_t][a_t] = sum(returns[state_action]) / len(returns[state_action]) # Average reward across episodes\n",
    "            \n",
    "            # finding the action with maximum value\n",
    "            Q_list = list(map(lambda x: x[1], Q[s_t].items()))\n",
    "            indices = [i for i, x in enumerate(Q_list) if x == max(Q_list)]\n",
    "            max_Q = random.choice(indices)\n",
    "            \n",
    "            # update action probability for s_t in policy\n",
    "            for action, prob in policy[s_t].items():\n",
    "                if action == max_Q:\n",
    "                    policy[s_t][action] = 1 - epsilon + (epsilon / abs(sum(policy[s_t].values())))\n",
    "                else:\n",
    "                    policy[s_t][action] = (epsilon / abs(sum(policy[s_t].values())))\n",
    "        \n",
    "        if (idx+1) % 5000 == 0:\n",
    "            print(\"\\rEpisode {}/{}.\".format(idx+1, episodes), end=\"\")\n",
    "            sys.stdout.flush()\n",
    "\n",
    "    return Q, policy"
   ]
  },
  {
   "cell_type": "code",
   "execution_count": 7,
   "metadata": {},
   "outputs": [
    {
     "name": "stdout",
     "output_type": "stream",
     "text": [
      "Episode 100000/100000."
     ]
    },
    {
     "data": {
      "text/plain": [
       "0.97"
      ]
     },
     "execution_count": 7,
     "metadata": {},
     "output_type": "execute_result"
    }
   ],
   "source": [
    "env = gym.make('FrozenLake-v1', is_slippery=False)\n",
    "Q, policy = monte_carlo(env, episodes=100000, first_visit=True)\n",
    "test_policy(policy, env)"
   ]
  },
  {
   "cell_type": "code",
   "execution_count": 88,
   "metadata": {},
   "outputs": [
    {
     "data": {
      "text/plain": [
       "{0: {0: 0.00971933168334964,\n",
       "  1: 0.00971933168334964,\n",
       "  2: 0.9997193316833496,\n",
       "  3: 0.00971933168334964},\n",
       " 1: {0: 0.00971933168334964,\n",
       "  1: 0.00971933168334964,\n",
       "  2: 0.9997193316833496,\n",
       "  3: 0.00971933168334964},\n",
       " 2: {0: 0.00971933168334964,\n",
       "  1: 0.9997193316833496,\n",
       "  2: 0.00971933168334964,\n",
       "  3: 0.00971933168334964},\n",
       " 3: {0: 0.9997193316833496,\n",
       "  1: 0.00971933168334964,\n",
       "  2: 0.00971933168334964,\n",
       "  3: 0.00971933168334964},\n",
       " 4: {0: 0.00971933168334964,\n",
       "  1: 0.00971933168334964,\n",
       "  2: 0.00971933168334964,\n",
       "  3: 0.9997193316833496},\n",
       " 5: {0: 0.25, 1: 0.25, 2: 0.25, 3: 0.25},\n",
       " 6: {0: 0.00971933168334964,\n",
       "  1: 0.9997193316833496,\n",
       "  2: 0.00971933168334964,\n",
       "  3: 0.00971933168334964},\n",
       " 7: {0: 0.25, 1: 0.25, 2: 0.25, 3: 0.25},\n",
       " 8: {0: 0.00971933168334964,\n",
       "  1: 0.00971933168334964,\n",
       "  2: 0.9997193316833496,\n",
       "  3: 0.00971933168334964},\n",
       " 9: {0: 0.00971933168334964,\n",
       "  1: 0.00971933168334964,\n",
       "  2: 0.9997193316833496,\n",
       "  3: 0.00971933168334964},\n",
       " 10: {0: 0.00971933168334964,\n",
       "  1: 0.9997193316833496,\n",
       "  2: 0.00971933168334964,\n",
       "  3: 0.00971933168334964},\n",
       " 11: {0: 0.25, 1: 0.25, 2: 0.25, 3: 0.25},\n",
       " 12: {0: 0.25, 1: 0.25, 2: 0.25, 3: 0.25},\n",
       " 13: {0: 0.00971933168334964,\n",
       "  1: 0.00971933168334964,\n",
       "  2: 0.9997193316833496,\n",
       "  3: 0.00971933168334964},\n",
       " 14: {0: 0.00971933168334964,\n",
       "  1: 0.00971933168334964,\n",
       "  2: 0.9997193316833496,\n",
       "  3: 0.00971933168334964},\n",
       " 15: {0: 0.25, 1: 0.25, 2: 0.25, 3: 0.25}}"
      ]
     },
     "execution_count": 88,
     "metadata": {},
     "output_type": "execute_result"
    }
   ],
   "source": [
    "policy"
   ]
  },
  {
   "cell_type": "code",
   "execution_count": 89,
   "metadata": {},
   "outputs": [
    {
     "name": "stdout",
     "output_type": "stream",
     "text": [
      "  (Right)\n",
      "SFFF\n",
      "FHFH\n",
      "FFFH\n",
      "HFF\u001b[41mG\u001b[0m\n"
     ]
    }
   ],
   "source": [
    "env.render()"
   ]
  }
 ],
 "metadata": {
  "kernelspec": {
   "display_name": "env",
   "language": "python",
   "name": "python3"
  },
  "language_info": {
   "codemirror_mode": {
    "name": "ipython",
    "version": 3
   },
   "file_extension": ".py",
   "mimetype": "text/x-python",
   "name": "python",
   "nbconvert_exporter": "python",
   "pygments_lexer": "ipython3",
   "version": "3.9.13"
  },
  "orig_nbformat": 4
 },
 "nbformat": 4,
 "nbformat_minor": 2
}
